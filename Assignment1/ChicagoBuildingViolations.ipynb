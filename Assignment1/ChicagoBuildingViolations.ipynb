{
 "cells": [
  {
   "cell_type": "markdown",
   "metadata": {},
   "source": [
    "# Chicago Building Violations数据集的探索性分析与预处理"
   ]
  },
  {
   "cell_type": "code",
   "execution_count": 1,
   "metadata": {},
   "outputs": [],
   "source": [
    "import pandas as pd\n",
    "from matplotlib import pyplot as plt"
   ]
  },
  {
   "cell_type": "code",
   "execution_count": 2,
   "metadata": {},
   "outputs": [],
   "source": [
    "path=\"/home/fc/code/ChicagoBuildingViolations/building-violations.csv\""
   ]
  },
  {
   "cell_type": "code",
   "execution_count": 3,
   "metadata": {},
   "outputs": [],
   "source": [
    "data = pd.read_csv(path)"
   ]
  },
  {
   "cell_type": "code",
   "execution_count": 4,
   "metadata": {},
   "outputs": [
    {
     "data": {
      "text/html": [
       "<div>\n",
       "<style scoped>\n",
       "    .dataframe tbody tr th:only-of-type {\n",
       "        vertical-align: middle;\n",
       "    }\n",
       "\n",
       "    .dataframe tbody tr th {\n",
       "        vertical-align: top;\n",
       "    }\n",
       "\n",
       "    .dataframe thead th {\n",
       "        text-align: right;\n",
       "    }\n",
       "</style>\n",
       "<table border=\"1\" class=\"dataframe\">\n",
       "  <thead>\n",
       "    <tr style=\"text-align: right;\">\n",
       "      <th></th>\n",
       "      <th>ID</th>\n",
       "      <th>VIOLATION LAST MODIFIED DATE</th>\n",
       "      <th>VIOLATION DATE</th>\n",
       "      <th>VIOLATION CODE</th>\n",
       "      <th>VIOLATION STATUS</th>\n",
       "      <th>VIOLATION STATUS DATE</th>\n",
       "      <th>VIOLATION DESCRIPTION</th>\n",
       "      <th>VIOLATION LOCATION</th>\n",
       "      <th>VIOLATION INSPECTOR COMMENTS</th>\n",
       "      <th>VIOLATION ORDINANCE</th>\n",
       "      <th>...</th>\n",
       "      <th>SSA</th>\n",
       "      <th>LATITUDE</th>\n",
       "      <th>LONGITUDE</th>\n",
       "      <th>LOCATION</th>\n",
       "      <th>Community Areas</th>\n",
       "      <th>Zip Codes</th>\n",
       "      <th>Boundaries - ZIP Codes</th>\n",
       "      <th>Census Tracts</th>\n",
       "      <th>Wards</th>\n",
       "      <th>Historical Wards 2003-2015</th>\n",
       "    </tr>\n",
       "  </thead>\n",
       "  <tbody>\n",
       "    <tr>\n",
       "      <th>0</th>\n",
       "      <td>6392482</td>\n",
       "      <td>2019-12-04T12:40:09.000</td>\n",
       "      <td>2019-12-04T00:00:00.000</td>\n",
       "      <td>CN196019</td>\n",
       "      <td>OPEN</td>\n",
       "      <td>NaN</td>\n",
       "      <td>NO POSTED ADDRESS</td>\n",
       "      <td>OTHER   :    :OTHER</td>\n",
       "      <td>BUILDING ADRESSES - INCOMPLETE WITH MISSING #'S.</td>\n",
       "      <td>Post address of building in conspicuous place ...</td>\n",
       "      <td>...</td>\n",
       "      <td>NaN</td>\n",
       "      <td>41.749169</td>\n",
       "      <td>-87.602551</td>\n",
       "      <td>{'latitude': '41.749169067345306', 'human_addr...</td>\n",
       "      <td>40.0</td>\n",
       "      <td>21546.0</td>\n",
       "      <td>61.0</td>\n",
       "      <td>247.0</td>\n",
       "      <td>35.0</td>\n",
       "      <td>9.0</td>\n",
       "    </tr>\n",
       "    <tr>\n",
       "      <th>1</th>\n",
       "      <td>6392480</td>\n",
       "      <td>2019-12-04T12:40:09.000</td>\n",
       "      <td>2019-12-04T00:00:00.000</td>\n",
       "      <td>CN061014</td>\n",
       "      <td>OPEN</td>\n",
       "      <td>NaN</td>\n",
       "      <td>REPAIR EXTERIOR WALL</td>\n",
       "      <td>OTHER   :    :OTHER</td>\n",
       "      <td>WEST AND SOUTH ELEVATIONS / EXTERIOR WALLS - M...</td>\n",
       "      <td>Failed to maintain the exterior walls of a bui...</td>\n",
       "      <td>...</td>\n",
       "      <td>NaN</td>\n",
       "      <td>41.749169</td>\n",
       "      <td>-87.602551</td>\n",
       "      <td>{'latitude': '41.749169067345306', 'human_addr...</td>\n",
       "      <td>40.0</td>\n",
       "      <td>21546.0</td>\n",
       "      <td>61.0</td>\n",
       "      <td>247.0</td>\n",
       "      <td>35.0</td>\n",
       "      <td>9.0</td>\n",
       "    </tr>\n",
       "    <tr>\n",
       "      <th>2</th>\n",
       "      <td>6392335</td>\n",
       "      <td>2019-12-04T14:00:12.000</td>\n",
       "      <td>2019-12-04T00:00:00.000</td>\n",
       "      <td>CN138106</td>\n",
       "      <td>OPEN</td>\n",
       "      <td>NaN</td>\n",
       "      <td>STOP/REMOVE NUISANCE</td>\n",
       "      <td>OTHER   :    :OTHER</td>\n",
       "      <td>YARD AREA; ABANDON VEHICLE.</td>\n",
       "      <td>Remove and stop nuisance. (7-28-060)</td>\n",
       "      <td>...</td>\n",
       "      <td>NaN</td>\n",
       "      <td>41.711751</td>\n",
       "      <td>-87.537842</td>\n",
       "      <td>{'latitude': '41.71175105491413', 'human_addre...</td>\n",
       "      <td>49.0</td>\n",
       "      <td>21202.0</td>\n",
       "      <td>25.0</td>\n",
       "      <td>528.0</td>\n",
       "      <td>47.0</td>\n",
       "      <td>47.0</td>\n",
       "    </tr>\n",
       "    <tr>\n",
       "      <th>3</th>\n",
       "      <td>6391883</td>\n",
       "      <td>2019-12-04T08:32:01.000</td>\n",
       "      <td>2019-12-04T00:00:00.000</td>\n",
       "      <td>CN197039</td>\n",
       "      <td>OPEN</td>\n",
       "      <td>NaN</td>\n",
       "      <td>RELOCATE SMOKE DETECTOR</td>\n",
       "      <td>INTERIOR:003 :</td>\n",
       "      <td>HALLWAY - SMOKE DETECTOR - 4FT BELOW CEILING.</td>\n",
       "      <td>Relocate improperly installed smoke detectors....</td>\n",
       "      <td>...</td>\n",
       "      <td>25.0</td>\n",
       "      <td>41.844521</td>\n",
       "      <td>-87.712416</td>\n",
       "      <td>{'latitude': '41.84452110252742', 'human_addre...</td>\n",
       "      <td>32.0</td>\n",
       "      <td>21569.0</td>\n",
       "      <td>57.0</td>\n",
       "      <td>755.0</td>\n",
       "      <td>28.0</td>\n",
       "      <td>14.0</td>\n",
       "    </tr>\n",
       "    <tr>\n",
       "      <th>4</th>\n",
       "      <td>6392369</td>\n",
       "      <td>2019-12-04T14:14:24.000</td>\n",
       "      <td>2019-12-04T00:00:00.000</td>\n",
       "      <td>CN065034</td>\n",
       "      <td>OPEN</td>\n",
       "      <td>NaN</td>\n",
       "      <td>REPAIR WINDOW SILLS</td>\n",
       "      <td>OTHER   :    :OTHER</td>\n",
       "      <td>EAST WINDOW SILLS; OPEN JOINTS.</td>\n",
       "      <td>Failed to maintain window sill in good repair ...</td>\n",
       "      <td>...</td>\n",
       "      <td>NaN</td>\n",
       "      <td>41.753908</td>\n",
       "      <td>-87.562784</td>\n",
       "      <td>{'latitude': '41.75390787131238', 'human_addre...</td>\n",
       "      <td>39.0</td>\n",
       "      <td>22538.0</td>\n",
       "      <td>24.0</td>\n",
       "      <td>246.0</td>\n",
       "      <td>37.0</td>\n",
       "      <td>43.0</td>\n",
       "    </tr>\n",
       "    <tr>\n",
       "      <th>...</th>\n",
       "      <td>...</td>\n",
       "      <td>...</td>\n",
       "      <td>...</td>\n",
       "      <td>...</td>\n",
       "      <td>...</td>\n",
       "      <td>...</td>\n",
       "      <td>...</td>\n",
       "      <td>...</td>\n",
       "      <td>...</td>\n",
       "      <td>...</td>\n",
       "      <td>...</td>\n",
       "      <td>...</td>\n",
       "      <td>...</td>\n",
       "      <td>...</td>\n",
       "      <td>...</td>\n",
       "      <td>...</td>\n",
       "      <td>...</td>\n",
       "      <td>...</td>\n",
       "      <td>...</td>\n",
       "      <td>...</td>\n",
       "      <td>...</td>\n",
       "    </tr>\n",
       "    <tr>\n",
       "      <th>1677783</th>\n",
       "      <td>1479309</td>\n",
       "      <td>2006-07-14T14:23:34.000</td>\n",
       "      <td>2006-01-01T00:00:00.000</td>\n",
       "      <td>CN198019</td>\n",
       "      <td>OPEN</td>\n",
       "      <td>NaN</td>\n",
       "      <td>FILE BLDG REGISTRATION</td>\n",
       "      <td>NaN</td>\n",
       "      <td>REGISTER BUILDING 2003-06</td>\n",
       "      <td>File building registration statement with Buil...</td>\n",
       "      <td>...</td>\n",
       "      <td>NaN</td>\n",
       "      <td>41.794852</td>\n",
       "      <td>-87.619674</td>\n",
       "      <td>{'latitude': '41.794852380662455', 'human_addr...</td>\n",
       "      <td>7.0</td>\n",
       "      <td>21192.0</td>\n",
       "      <td>10.0</td>\n",
       "      <td>401.0</td>\n",
       "      <td>9.0</td>\n",
       "      <td>12.0</td>\n",
       "    </tr>\n",
       "    <tr>\n",
       "      <th>1677784</th>\n",
       "      <td>1552683</td>\n",
       "      <td>2006-08-11T14:36:28.000</td>\n",
       "      <td>2006-01-01T00:00:00.000</td>\n",
       "      <td>NC2071</td>\n",
       "      <td>OPEN</td>\n",
       "      <td>NaN</td>\n",
       "      <td>WORK NOT ALLOWED</td>\n",
       "      <td>NaN</td>\n",
       "      <td>PERMIT REQUIRED FOR LINTEL REPLACEMENT</td>\n",
       "      <td>Remove work performed without permit and resto...</td>\n",
       "      <td>...</td>\n",
       "      <td>48.0</td>\n",
       "      <td>41.909590</td>\n",
       "      <td>-87.633245</td>\n",
       "      <td>{'latitude': '41.90959014268417', 'human_addre...</td>\n",
       "      <td>37.0</td>\n",
       "      <td>14926.0</td>\n",
       "      <td>54.0</td>\n",
       "      <td>290.0</td>\n",
       "      <td>46.0</td>\n",
       "      <td>51.0</td>\n",
       "    </tr>\n",
       "    <tr>\n",
       "      <th>1677785</th>\n",
       "      <td>1479310</td>\n",
       "      <td>2008-10-08T13:58:16.000</td>\n",
       "      <td>2006-01-01T00:00:00.000</td>\n",
       "      <td>CN190029</td>\n",
       "      <td>COMPLIED</td>\n",
       "      <td>2008-08-13T00:00:00.000</td>\n",
       "      <td>ARRANGE FOR REINSPECTION REGAR</td>\n",
       "      <td>NaN</td>\n",
       "      <td>ARRANGE FOR A RE-INSPECTION</td>\n",
       "      <td>pending notice reinspection</td>\n",
       "      <td>...</td>\n",
       "      <td>NaN</td>\n",
       "      <td>41.794852</td>\n",
       "      <td>-87.619674</td>\n",
       "      <td>{'latitude': '41.794852380662455', 'human_addr...</td>\n",
       "      <td>7.0</td>\n",
       "      <td>21192.0</td>\n",
       "      <td>10.0</td>\n",
       "      <td>401.0</td>\n",
       "      <td>9.0</td>\n",
       "      <td>12.0</td>\n",
       "    </tr>\n",
       "    <tr>\n",
       "      <th>1677786</th>\n",
       "      <td>1487027</td>\n",
       "      <td>2006-07-14T14:38:23.000</td>\n",
       "      <td>2006-01-01T00:00:00.000</td>\n",
       "      <td>EL0020</td>\n",
       "      <td>OPEN</td>\n",
       "      <td>NaN</td>\n",
       "      <td>SUPPORT FIXTURES</td>\n",
       "      <td>NaN</td>\n",
       "      <td>DUP VIOLATION</td>\n",
       "      <td>Support loose light fixture. (18-27-410.15, 18...</td>\n",
       "      <td>...</td>\n",
       "      <td>NaN</td>\n",
       "      <td>41.812888</td>\n",
       "      <td>-87.617602</td>\n",
       "      <td>{'latitude': '41.812888442188886', 'human_addr...</td>\n",
       "      <td>4.0</td>\n",
       "      <td>4301.0</td>\n",
       "      <td>36.0</td>\n",
       "      <td>162.0</td>\n",
       "      <td>9.0</td>\n",
       "      <td>12.0</td>\n",
       "    </tr>\n",
       "    <tr>\n",
       "      <th>1677787</th>\n",
       "      <td>1474071</td>\n",
       "      <td>2009-11-12T09:18:47.000</td>\n",
       "      <td>2006-01-01T00:00:00.000</td>\n",
       "      <td>CN074014</td>\n",
       "      <td>COMPLIED</td>\n",
       "      <td>2009-11-10T00:00:00.000</td>\n",
       "      <td>SERVICE WALK, PASSAGE, AREAWAY</td>\n",
       "      <td>NaN</td>\n",
       "      <td>REAR SERVICE WALK BROKEN &amp; BUCKLED CONCRETE</td>\n",
       "      <td>Failed to maintain exterior service walks, pas...</td>\n",
       "      <td>...</td>\n",
       "      <td>NaN</td>\n",
       "      <td>41.802877</td>\n",
       "      <td>-87.609908</td>\n",
       "      <td>{'latitude': '41.80287663210569', 'human_addre...</td>\n",
       "      <td>4.0</td>\n",
       "      <td>21192.0</td>\n",
       "      <td>10.0</td>\n",
       "      <td>165.0</td>\n",
       "      <td>10.0</td>\n",
       "      <td>1.0</td>\n",
       "    </tr>\n",
       "  </tbody>\n",
       "</table>\n",
       "<p>1677788 rows × 32 columns</p>\n",
       "</div>"
      ],
      "text/plain": [
       "              ID VIOLATION LAST MODIFIED DATE           VIOLATION DATE  \\\n",
       "0        6392482      2019-12-04T12:40:09.000  2019-12-04T00:00:00.000   \n",
       "1        6392480      2019-12-04T12:40:09.000  2019-12-04T00:00:00.000   \n",
       "2        6392335      2019-12-04T14:00:12.000  2019-12-04T00:00:00.000   \n",
       "3        6391883      2019-12-04T08:32:01.000  2019-12-04T00:00:00.000   \n",
       "4        6392369      2019-12-04T14:14:24.000  2019-12-04T00:00:00.000   \n",
       "...          ...                          ...                      ...   \n",
       "1677783  1479309      2006-07-14T14:23:34.000  2006-01-01T00:00:00.000   \n",
       "1677784  1552683      2006-08-11T14:36:28.000  2006-01-01T00:00:00.000   \n",
       "1677785  1479310      2008-10-08T13:58:16.000  2006-01-01T00:00:00.000   \n",
       "1677786  1487027      2006-07-14T14:38:23.000  2006-01-01T00:00:00.000   \n",
       "1677787  1474071      2009-11-12T09:18:47.000  2006-01-01T00:00:00.000   \n",
       "\n",
       "        VIOLATION CODE VIOLATION STATUS    VIOLATION STATUS DATE  \\\n",
       "0             CN196019             OPEN                      NaN   \n",
       "1             CN061014             OPEN                      NaN   \n",
       "2             CN138106             OPEN                      NaN   \n",
       "3             CN197039             OPEN                      NaN   \n",
       "4             CN065034             OPEN                      NaN   \n",
       "...                ...              ...                      ...   \n",
       "1677783       CN198019             OPEN                      NaN   \n",
       "1677784         NC2071             OPEN                      NaN   \n",
       "1677785       CN190029         COMPLIED  2008-08-13T00:00:00.000   \n",
       "1677786         EL0020             OPEN                      NaN   \n",
       "1677787       CN074014         COMPLIED  2009-11-10T00:00:00.000   \n",
       "\n",
       "                  VIOLATION DESCRIPTION   VIOLATION LOCATION  \\\n",
       "0                     NO POSTED ADDRESS  OTHER   :    :OTHER   \n",
       "1                  REPAIR EXTERIOR WALL  OTHER   :    :OTHER   \n",
       "2                  STOP/REMOVE NUISANCE  OTHER   :    :OTHER   \n",
       "3               RELOCATE SMOKE DETECTOR       INTERIOR:003 :   \n",
       "4                   REPAIR WINDOW SILLS  OTHER   :    :OTHER   \n",
       "...                                 ...                  ...   \n",
       "1677783          FILE BLDG REGISTRATION                  NaN   \n",
       "1677784                WORK NOT ALLOWED                  NaN   \n",
       "1677785  ARRANGE FOR REINSPECTION REGAR                  NaN   \n",
       "1677786                SUPPORT FIXTURES                  NaN   \n",
       "1677787  SERVICE WALK, PASSAGE, AREAWAY                  NaN   \n",
       "\n",
       "                              VIOLATION INSPECTOR COMMENTS  \\\n",
       "0         BUILDING ADRESSES - INCOMPLETE WITH MISSING #'S.   \n",
       "1        WEST AND SOUTH ELEVATIONS / EXTERIOR WALLS - M...   \n",
       "2                              YARD AREA; ABANDON VEHICLE.   \n",
       "3            HALLWAY - SMOKE DETECTOR - 4FT BELOW CEILING.   \n",
       "4                          EAST WINDOW SILLS; OPEN JOINTS.   \n",
       "...                                                    ...   \n",
       "1677783                          REGISTER BUILDING 2003-06   \n",
       "1677784             PERMIT REQUIRED FOR LINTEL REPLACEMENT   \n",
       "1677785                        ARRANGE FOR A RE-INSPECTION   \n",
       "1677786                                      DUP VIOLATION   \n",
       "1677787        REAR SERVICE WALK BROKEN & BUCKLED CONCRETE   \n",
       "\n",
       "                                       VIOLATION ORDINANCE  ...   SSA  \\\n",
       "0        Post address of building in conspicuous place ...  ...   NaN   \n",
       "1        Failed to maintain the exterior walls of a bui...  ...   NaN   \n",
       "2                     Remove and stop nuisance. (7-28-060)  ...   NaN   \n",
       "3        Relocate improperly installed smoke detectors....  ...  25.0   \n",
       "4        Failed to maintain window sill in good repair ...  ...   NaN   \n",
       "...                                                    ...  ...   ...   \n",
       "1677783  File building registration statement with Buil...  ...   NaN   \n",
       "1677784  Remove work performed without permit and resto...  ...  48.0   \n",
       "1677785                        pending notice reinspection  ...   NaN   \n",
       "1677786  Support loose light fixture. (18-27-410.15, 18...  ...   NaN   \n",
       "1677787  Failed to maintain exterior service walks, pas...  ...   NaN   \n",
       "\n",
       "          LATITUDE  LONGITUDE  \\\n",
       "0        41.749169 -87.602551   \n",
       "1        41.749169 -87.602551   \n",
       "2        41.711751 -87.537842   \n",
       "3        41.844521 -87.712416   \n",
       "4        41.753908 -87.562784   \n",
       "...            ...        ...   \n",
       "1677783  41.794852 -87.619674   \n",
       "1677784  41.909590 -87.633245   \n",
       "1677785  41.794852 -87.619674   \n",
       "1677786  41.812888 -87.617602   \n",
       "1677787  41.802877 -87.609908   \n",
       "\n",
       "                                                  LOCATION Community Areas  \\\n",
       "0        {'latitude': '41.749169067345306', 'human_addr...            40.0   \n",
       "1        {'latitude': '41.749169067345306', 'human_addr...            40.0   \n",
       "2        {'latitude': '41.71175105491413', 'human_addre...            49.0   \n",
       "3        {'latitude': '41.84452110252742', 'human_addre...            32.0   \n",
       "4        {'latitude': '41.75390787131238', 'human_addre...            39.0   \n",
       "...                                                    ...             ...   \n",
       "1677783  {'latitude': '41.794852380662455', 'human_addr...             7.0   \n",
       "1677784  {'latitude': '41.90959014268417', 'human_addre...            37.0   \n",
       "1677785  {'latitude': '41.794852380662455', 'human_addr...             7.0   \n",
       "1677786  {'latitude': '41.812888442188886', 'human_addr...             4.0   \n",
       "1677787  {'latitude': '41.80287663210569', 'human_addre...             4.0   \n",
       "\n",
       "        Zip Codes Boundaries - ZIP Codes  Census Tracts Wards  \\\n",
       "0         21546.0                   61.0          247.0  35.0   \n",
       "1         21546.0                   61.0          247.0  35.0   \n",
       "2         21202.0                   25.0          528.0  47.0   \n",
       "3         21569.0                   57.0          755.0  28.0   \n",
       "4         22538.0                   24.0          246.0  37.0   \n",
       "...           ...                    ...            ...   ...   \n",
       "1677783   21192.0                   10.0          401.0   9.0   \n",
       "1677784   14926.0                   54.0          290.0  46.0   \n",
       "1677785   21192.0                   10.0          401.0   9.0   \n",
       "1677786    4301.0                   36.0          162.0   9.0   \n",
       "1677787   21192.0                   10.0          165.0  10.0   \n",
       "\n",
       "        Historical Wards 2003-2015  \n",
       "0                              9.0  \n",
       "1                              9.0  \n",
       "2                             47.0  \n",
       "3                             14.0  \n",
       "4                             43.0  \n",
       "...                            ...  \n",
       "1677783                       12.0  \n",
       "1677784                       51.0  \n",
       "1677785                       12.0  \n",
       "1677786                       12.0  \n",
       "1677787                        1.0  \n",
       "\n",
       "[1677788 rows x 32 columns]"
      ]
     },
     "execution_count": 4,
     "metadata": {},
     "output_type": "execute_result"
    }
   ],
   "source": [
    "data"
   ]
  },
  {
   "cell_type": "code",
   "execution_count": 5,
   "metadata": {},
   "outputs": [
    {
     "name": "stdout",
     "output_type": "stream",
     "text": [
      "<class 'pandas.core.frame.DataFrame'>\n",
      "RangeIndex: 1677788 entries, 0 to 1677787\n",
      "Data columns (total 32 columns):\n",
      " #   Column                        Non-Null Count    Dtype  \n",
      "---  ------                        --------------    -----  \n",
      " 0   ID                            1677788 non-null  int64  \n",
      " 1   VIOLATION LAST MODIFIED DATE  1677788 non-null  object \n",
      " 2   VIOLATION DATE                1677788 non-null  object \n",
      " 3   VIOLATION CODE                1677788 non-null  object \n",
      " 4   VIOLATION STATUS              1677788 non-null  object \n",
      " 5   VIOLATION STATUS DATE         641589 non-null   object \n",
      " 6   VIOLATION DESCRIPTION         1667020 non-null  object \n",
      " 7   VIOLATION LOCATION            780506 non-null   object \n",
      " 8   VIOLATION INSPECTOR COMMENTS  1502325 non-null  object \n",
      " 9   VIOLATION ORDINANCE           1630207 non-null  object \n",
      " 10  INSPECTOR ID                  1677788 non-null  object \n",
      " 11  INSPECTION NUMBER             1677788 non-null  int64  \n",
      " 12  INSPECTION STATUS             1677772 non-null  object \n",
      " 13  INSPECTION WAIVED             1677788 non-null  object \n",
      " 14  INSPECTION CATEGORY           1677788 non-null  object \n",
      " 15  DEPARTMENT BUREAU             1677788 non-null  object \n",
      " 16  ADDRESS                       1677788 non-null  object \n",
      " 17  STREET NUMBER                 1677788 non-null  int64  \n",
      " 18  STREET DIRECTION              1677788 non-null  object \n",
      " 19  STREET NAME                   1677788 non-null  object \n",
      " 20  STREET TYPE                   1664247 non-null  object \n",
      " 21  PROPERTY GROUP                1677788 non-null  int64  \n",
      " 22  SSA                           321521 non-null   float64\n",
      " 23  LATITUDE                      1676278 non-null  float64\n",
      " 24  LONGITUDE                     1676278 non-null  float64\n",
      " 25  LOCATION                      1676278 non-null  object \n",
      " 26  Community Areas               1675509 non-null  float64\n",
      " 27  Zip Codes                     1676278 non-null  float64\n",
      " 28  Boundaries - ZIP Codes        1675509 non-null  float64\n",
      " 29  Census Tracts                 1676243 non-null  float64\n",
      " 30  Wards                         1675509 non-null  float64\n",
      " 31  Historical Wards 2003-2015    1675509 non-null  float64\n",
      "dtypes: float64(9), int64(4), object(19)\n",
      "memory usage: 409.6+ MB\n"
     ]
    }
   ],
   "source": [
    "data.info()"
   ]
  },
  {
   "cell_type": "markdown",
   "metadata": {},
   "source": [
    "可以看出，标称属性包括了VIOLATION CODE、VIOLATION STATUS、INSPECTION STATUS、INSPECTION WAIVED、INSPECTION CATEGORY、DEPARTMENT BUREAU、STREET DIRECTION、STREET TYPE，数值属性包括了Community Areas、Census Tracts、Wards、Historical Wards 2003-2015"
   ]
  },
  {
   "cell_type": "markdown",
   "metadata": {},
   "source": [
    "## 2. 数据可视化和摘要"
   ]
  },
  {
   "cell_type": "markdown",
   "metadata": {},
   "source": [
    "### 2.1 标称属性"
   ]
  },
  {
   "cell_type": "markdown",
   "metadata": {},
   "source": [
    "#### VIOLATION CODE"
   ]
  },
  {
   "cell_type": "code",
   "execution_count": 8,
   "metadata": {},
   "outputs": [
    {
     "data": {
      "text/plain": [
       "CN190019    89995\n",
       "CN196029    58136\n",
       "CN061014    51946\n",
       "EV1110      43700\n",
       "CN070024    43673\n",
       "            ...  \n",
       "CN193311        1\n",
       "FP1356          1\n",
       "ES0106          1\n",
       "ELBC01          1\n",
       "EV0128          1\n",
       "Name: VIOLATION CODE, Length: 1468, dtype: int64"
      ]
     },
     "execution_count": 8,
     "metadata": {},
     "output_type": "execute_result"
    }
   ],
   "source": [
    "data['VIOLATION CODE'].value_counts(dropna = False)"
   ]
  },
  {
   "cell_type": "code",
   "execution_count": 18,
   "metadata": {},
   "outputs": [
    {
     "data": {
      "text/plain": [
       "<matplotlib.axes._subplots.AxesSubplot at 0x7fcebdf992e0>"
      ]
     },
     "execution_count": 18,
     "metadata": {},
     "output_type": "execute_result"
    },
    {
     "data": {
      "image/png": "[encoded data removed]",
      "text/plain": [
       "<Figure size 1440x576 with 1 Axes>"
      ]
     },
     "metadata": {
      "needs_background": "light"
     },
     "output_type": "display_data"
    }
   ],
   "source": [
    "data['VIOLATION CODE'].value_counts(dropna = False)[:100].plot(kind=\"bar\", figsize=(20,8))"
   ]
  },
  {
   "cell_type": "markdown",
   "metadata": {},
   "source": [
    "#### VIOLATION STATUS"
   ]
  },
  {
   "cell_type": "code",
   "execution_count": 11,
   "metadata": {},
   "outputs": [
    {
     "data": {
      "text/plain": [
       "OPEN        1030958\n",
       "COMPLIED     641247\n",
       "NO ENTRY       5583\n",
       "Name: VIOLATION STATUS, dtype: int64"
      ]
     },
     "execution_count": 11,
     "metadata": {},
     "output_type": "execute_result"
    }
   ],
   "source": [
    "data['VIOLATION STATUS'].value_counts(dropna = False)"
   ]
  },
  {
   "cell_type": "code",
   "execution_count": 16,
   "metadata": {},
   "outputs": [
    {
     "data": {
      "text/plain": [
       "<matplotlib.axes._subplots.AxesSubplot at 0x7fced5d491f0>"
      ]
     },
     "execution_count": 16,
     "metadata": {},
     "output_type": "execute_result"
    },
    {
     "data": {
      "image/png": "[encoded data removed]",
      "text/plain": [
       "<Figure size 1440x576 with 1 Axes>"
      ]
     },
     "metadata": {
      "needs_background": "light"
     },
     "output_type": "display_data"
    }
   ],
   "source": [
    "data['VIOLATION STATUS'].value_counts(dropna = False).plot(kind=\"bar\", figsize=(20,8))"
   ]
  },
  {
   "cell_type": "markdown",
   "metadata": {},
   "source": [
    "#### INSPECTION STATUS"
   ]
  },
  {
   "cell_type": "code",
   "execution_count": 13,
   "metadata": {},
   "outputs": [
    {
     "data": {
      "text/plain": [
       "FAILED    1159758\n",
       "PASSED     293076\n",
       "CLOSED     224784\n",
       "HOLD          154\n",
       "NaN            16\n",
       "Name: INSPECTION STATUS, dtype: int64"
      ]
     },
     "execution_count": 13,
     "metadata": {},
     "output_type": "execute_result"
    }
   ],
   "source": [
    "data['INSPECTION STATUS'].value_counts(dropna = False)"
   ]
  },
  {
   "cell_type": "code",
   "execution_count": 15,
   "metadata": {},
   "outputs": [
    {
     "data": {
      "text/plain": [
       "<matplotlib.axes._subplots.AxesSubplot at 0x7fced6335f40>"
      ]
     },
     "execution_count": 15,
     "metadata": {},
     "output_type": "execute_result"
    },
    {
     "data": {
      "image/png": "[encoded data removed]",
      "text/plain": [
       "<Figure size 1440x576 with 1 Axes>"
      ]
     },
     "metadata": {
      "needs_background": "light"
     },
     "output_type": "display_data"
    }
   ],
   "source": [
    "data['INSPECTION STATUS'].value_counts(dropna = False).plot(kind=\"bar\", figsize=(20,8))"
   ]
  },
  {
   "cell_type": "markdown",
   "metadata": {},
   "source": [
    "#### INSPECTION WAIVED"
   ]
  },
  {
   "cell_type": "code",
   "execution_count": 19,
   "metadata": {},
   "outputs": [
    {
     "data": {
      "text/plain": [
       "N    1677788\n",
       "Name: INSPECTION WAIVED, dtype: int64"
      ]
     },
     "execution_count": 19,
     "metadata": {},
     "output_type": "execute_result"
    }
   ],
   "source": [
    "data['INSPECTION WAIVED'].value_counts(dropna = False)"
   ]
  },
  {
   "cell_type": "code",
   "execution_count": 20,
   "metadata": {},
   "outputs": [
    {
     "data": {
      "text/plain": [
       "<matplotlib.axes._subplots.AxesSubplot at 0x7fcebd2e1eb0>"
      ]
     },
     "execution_count": 20,
     "metadata": {},
     "output_type": "execute_result"
    },
    {
     "data": {
      "image/png": "[encoded data removed]",
      "text/plain": [
       "<Figure size 1440x576 with 1 Axes>"
      ]
     },
     "metadata": {
      "needs_background": "light"
     },
     "output_type": "display_data"
    }
   ],
   "source": [
    "data['INSPECTION WAIVED'].value_counts(dropna = False).plot(kind=\"bar\", figsize=(20,8))"
   ]
  },
  {
   "cell_type": "markdown",
   "metadata": {},
   "source": [
    "#### INSPECTION CATEGORY"
   ]
  },
  {
   "cell_type": "code",
   "execution_count": 21,
   "metadata": {},
   "outputs": [
    {
     "data": {
      "text/plain": [
       "COMPLAINT       1186426\n",
       "PERIODIC         415176\n",
       "PERMIT            73600\n",
       "REGISTRATION       2586\n",
       "Name: INSPECTION CATEGORY, dtype: int64"
      ]
     },
     "execution_count": 21,
     "metadata": {},
     "output_type": "execute_result"
    }
   ],
   "source": [
    "data['INSPECTION CATEGORY'].value_counts(dropna = False)"
   ]
  },
  {
   "cell_type": "code",
   "execution_count": 22,
   "metadata": {},
   "outputs": [
    {
     "data": {
      "text/plain": [
       "<matplotlib.axes._subplots.AxesSubplot at 0x7fcebd111700>"
      ]
     },
     "execution_count": 22,
     "metadata": {},
     "output_type": "execute_result"
    },
    {
     "data": {
      "image/png": "[encoded data removed]",
      "text/plain": [
       "<Figure size 1440x576 with 1 Axes>"
      ]
     },
     "metadata": {
      "needs_background": "light"
     },
     "output_type": "display_data"
    }
   ],
   "source": [
    "data['INSPECTION CATEGORY'].value_counts(dropna = False).plot(kind=\"bar\", figsize=(20,8))"
   ]
  },
  {
   "cell_type": "markdown",
   "metadata": {},
   "source": [
    "#### DEPARTMENT BUREAU"
   ]
  },
  {
   "cell_type": "code",
   "execution_count": 23,
   "metadata": {},
   "outputs": [
    {
     "data": {
      "text/plain": [
       "CONSERVATION                  1110911\n",
       "DEMOLITION                     125464\n",
       "SPECIAL TASK FORCE             115885\n",
       "ELEVATOR                        85805\n",
       "ELECTRICAL                      37243\n",
       "VENTILATION                     32108\n",
       "BOILER                          31235\n",
       "NEW CONSTRUCTION                29938\n",
       "REFRIGERATION                   29681\n",
       "PLUMBING                        28199\n",
       "SPECIAL INSPECTION PROGRAM      21033\n",
       "SIGNS                           14539\n",
       "IRON                            14405\n",
       "WATER                             786\n",
       "CONSTRUCTION EQUIPMENT            556\n",
       "Name: DEPARTMENT BUREAU, dtype: int64"
      ]
     },
     "execution_count": 23,
     "metadata": {},
     "output_type": "execute_result"
    }
   ],
   "source": [
    "data['DEPARTMENT BUREAU'].value_counts(dropna = False)"
   ]
  },
  {
   "cell_type": "code",
   "execution_count": 24,
   "metadata": {},
   "outputs": [
    {
     "data": {
      "text/plain": [
       "<matplotlib.axes._subplots.AxesSubplot at 0x7fcebd0f0670>"
      ]
     },
     "execution_count": 24,
     "metadata": {},
     "output_type": "execute_result"
    },
    {
     "data": {
      "image/png": "[encoded data removed]",
      "text/plain": [
       "<Figure size 1440x576 with 1 Axes>"
      ]
     },
     "metadata": {
      "needs_background": "light"
     },
     "output_type": "display_data"
    }
   ],
   "source": [
    "data['DEPARTMENT BUREAU'].value_counts(dropna = False).plot(kind=\"bar\", figsize=(20,8))"
   ]
  },
  {
   "cell_type": "markdown",
   "metadata": {},
   "source": [
    "#### STREET TYPE"
   ]
  },
  {
   "cell_type": "code",
   "execution_count": 41,
   "metadata": {},
   "outputs": [
    {
     "data": {
      "text/plain": [
       "AVE     940725\n",
       "ST      523743\n",
       "BLVD     59536\n",
       "PL       57665\n",
       "RD       41100\n",
       "DR       27145\n",
       "NaN      13541\n",
       "PKWY      6605\n",
       "CT        3287\n",
       "TER       2222\n",
       "HWY       1559\n",
       "PLZ        639\n",
       "EXPY        10\n",
       "WAY          8\n",
       "LN           3\n",
       "Name: STREET TYPE, dtype: int64"
      ]
     },
     "execution_count": 41,
     "metadata": {},
     "output_type": "execute_result"
    }
   ],
   "source": [
    "data['STREET TYPE'].value_counts(dropna = False)"
   ]
  },
  {
   "cell_type": "code",
   "execution_count": 42,
   "metadata": {},
   "outputs": [
    {
     "data": {
      "text/plain": [
       "<matplotlib.axes._subplots.AxesSubplot at 0x7fcebcf227f0>"
      ]
     },
     "execution_count": 42,
     "metadata": {},
     "output_type": "execute_result"
    },
    {
     "data": {
      "image/png": "[encoded data removed]",
      "text/plain": [
       "<Figure size 1440x576 with 1 Axes>"
      ]
     },
     "metadata": {
      "needs_background": "light"
     },
     "output_type": "display_data"
    }
   ],
   "source": [
    "data['STREET TYPE'].value_counts(dropna = False).plot(kind=\"bar\", figsize=(20,8))"
   ]
  },
  {
   "cell_type": "markdown",
   "metadata": {},
   "source": [
    "### 2.2 数值属性"
   ]
  },
  {
   "cell_type": "markdown",
   "metadata": {},
   "source": [
    "#### Community Areas"
   ]
  },
  {
   "cell_type": "code",
   "execution_count": 25,
   "metadata": {},
   "outputs": [
    {
     "data": {
      "text/plain": [
       "count    1.675509e+06\n",
       "mean     3.873350e+01\n",
       "std      2.008963e+01\n",
       "min      1.000000e+00\n",
       "25%      2.400000e+01\n",
       "50%      3.600000e+01\n",
       "75%      5.800000e+01\n",
       "max      7.700000e+01\n",
       "Name: Community Areas, dtype: float64"
      ]
     },
     "execution_count": 25,
     "metadata": {},
     "output_type": "execute_result"
    }
   ],
   "source": [
    "data['Community Areas'].describe() #5数概括"
   ]
  },
  {
   "cell_type": "code",
   "execution_count": 46,
   "metadata": {},
   "outputs": [
    {
     "data": {
      "text/plain": [
       "<matplotlib.axes._subplots.AxesSubplot at 0x7fcebcdbcc70>"
      ]
     },
     "execution_count": 46,
     "metadata": {},
     "output_type": "execute_result"
    },
    {
     "data": {
      "image/png": "[encoded data removed]",
      "text/plain": [
       "<Figure size 1440x576 with 1 Axes>"
      ]
     },
     "metadata": {
      "needs_background": "light"
     },
     "output_type": "display_data"
    }
   ],
   "source": [
    "data['Community Areas'].value_counts(dropna = False).plot(kind=\"bar\", figsize=(20,8))"
   ]
  },
  {
   "cell_type": "code",
   "execution_count": 26,
   "metadata": {},
   "outputs": [
    {
     "data": {
      "text/plain": [
       "2279"
      ]
     },
     "execution_count": 26,
     "metadata": {},
     "output_type": "execute_result"
    }
   ],
   "source": [
    "data['Community Areas'].isnull().sum() #缺失值个数"
   ]
  },
  {
   "cell_type": "code",
   "execution_count": 27,
   "metadata": {},
   "outputs": [
    {
     "data": {
      "image/png": "[encoded data removed]",
      "text/plain": [
       "<Figure size 432x288 with 1 Axes>"
      ]
     },
     "metadata": {
      "needs_background": "light"
     },
     "output_type": "display_data"
    }
   ],
   "source": [
    "result = data.boxplot(['Community Areas'],return_type='dict')"
   ]
  },
  {
   "cell_type": "code",
   "execution_count": 29,
   "metadata": {},
   "outputs": [
    {
     "data": {
      "text/plain": [
       "0"
      ]
     },
     "execution_count": 29,
     "metadata": {},
     "output_type": "execute_result"
    }
   ],
   "source": [
    "result['fliers'][0].get_ydata().size"
   ]
  },
  {
   "cell_type": "markdown",
   "metadata": {},
   "source": [
    "没有离群点"
   ]
  },
  {
   "cell_type": "markdown",
   "metadata": {},
   "source": [
    "#### Census Tracts"
   ]
  },
  {
   "cell_type": "code",
   "execution_count": 30,
   "metadata": {},
   "outputs": [
    {
     "data": {
      "text/plain": [
       "count    1.676243e+06\n",
       "mean     3.800659e+02\n",
       "std      2.290619e+02\n",
       "min      1.000000e+00\n",
       "25%      1.790000e+02\n",
       "50%      3.740000e+02\n",
       "75%      5.720000e+02\n",
       "max      8.010000e+02\n",
       "Name: Census Tracts, dtype: float64"
      ]
     },
     "execution_count": 30,
     "metadata": {},
     "output_type": "execute_result"
    }
   ],
   "source": [
    "data['Census Tracts'].describe() #5数概括"
   ]
  },
  {
   "cell_type": "code",
   "execution_count": 31,
   "metadata": {},
   "outputs": [
    {
     "data": {
      "text/plain": [
       "1545"
      ]
     },
     "execution_count": 31,
     "metadata": {},
     "output_type": "execute_result"
    }
   ],
   "source": [
    "data['Census Tracts'].isnull().sum() #缺失值个数"
   ]
  },
  {
   "cell_type": "code",
   "execution_count": 32,
   "metadata": {},
   "outputs": [
    {
     "data": {
      "image/png": "[encoded data removed]",
      "text/plain": [
       "<Figure size 432x288 with 1 Axes>"
      ]
     },
     "metadata": {
      "needs_background": "light"
     },
     "output_type": "display_data"
    }
   ],
   "source": [
    "result = data.boxplot(['Census Tracts'],return_type='dict')"
   ]
  },
  {
   "cell_type": "code",
   "execution_count": 33,
   "metadata": {},
   "outputs": [
    {
     "data": {
      "text/plain": [
       "0"
      ]
     },
     "execution_count": 33,
     "metadata": {},
     "output_type": "execute_result"
    }
   ],
   "source": [
    "result['fliers'][0].get_ydata().size"
   ]
  },
  {
   "cell_type": "markdown",
   "metadata": {},
   "source": [
    "没有离群点"
   ]
  },
  {
   "cell_type": "markdown",
   "metadata": {},
   "source": [
    "#### Wards"
   ]
  },
  {
   "cell_type": "code",
   "execution_count": 34,
   "metadata": {},
   "outputs": [
    {
     "data": {
      "text/plain": [
       "count    1.675509e+06\n",
       "mean     2.513030e+01\n",
       "std      1.498690e+01\n",
       "min      1.000000e+00\n",
       "25%      1.200000e+01\n",
       "50%      2.500000e+01\n",
       "75%      3.700000e+01\n",
       "max      5.000000e+01\n",
       "Name: Wards, dtype: float64"
      ]
     },
     "execution_count": 34,
     "metadata": {},
     "output_type": "execute_result"
    }
   ],
   "source": [
    "data['Wards'].describe() #5数概括"
   ]
  },
  {
   "cell_type": "code",
   "execution_count": 35,
   "metadata": {},
   "outputs": [
    {
     "data": {
      "text/plain": [
       "2279"
      ]
     },
     "execution_count": 35,
     "metadata": {},
     "output_type": "execute_result"
    }
   ],
   "source": [
    "data['Wards'].isnull().sum() #缺失值个数"
   ]
  },
  {
   "cell_type": "code",
   "execution_count": 36,
   "metadata": {},
   "outputs": [
    {
     "data": {
      "image/png": "[encoded data removed]",
      "text/plain": [
       "<Figure size 432x288 with 1 Axes>"
      ]
     },
     "metadata": {
      "needs_background": "light"
     },
     "output_type": "display_data"
    }
   ],
   "source": [
    "result = data.boxplot(['Wards'],return_type='dict')"
   ]
  },
  {
   "cell_type": "code",
   "execution_count": 38,
   "metadata": {},
   "outputs": [
    {
     "data": {
      "text/plain": [
       "0"
      ]
     },
     "execution_count": 38,
     "metadata": {},
     "output_type": "execute_result"
    }
   ],
   "source": [
    "result['fliers'][0].get_ydata().size"
   ]
  },
  {
   "cell_type": "markdown",
   "metadata": {},
   "source": [
    "没有离群点"
   ]
  },
  {
   "cell_type": "markdown",
   "metadata": {},
   "source": [
    "## 3. 数据缺失的处理"
   ]
  },
  {
   "cell_type": "code",
   "execution_count": 7,
   "metadata": {},
   "outputs": [
    {
     "data": {
      "text/plain": [
       "ID                                    0\n",
       "VIOLATION LAST MODIFIED DATE          0\n",
       "VIOLATION DATE                        0\n",
       "VIOLATION CODE                        0\n",
       "VIOLATION STATUS                      0\n",
       "VIOLATION STATUS DATE           1036199\n",
       "VIOLATION DESCRIPTION             10768\n",
       "VIOLATION LOCATION               897282\n",
       "VIOLATION INSPECTOR COMMENTS     175463\n",
       "VIOLATION ORDINANCE               47581\n",
       "INSPECTOR ID                          0\n",
       "INSPECTION NUMBER                     0\n",
       "INSPECTION STATUS                    16\n",
       "INSPECTION WAIVED                     0\n",
       "INSPECTION CATEGORY                   0\n",
       "DEPARTMENT BUREAU                     0\n",
       "ADDRESS                               0\n",
       "STREET NUMBER                         0\n",
       "STREET DIRECTION                      0\n",
       "STREET NAME                           0\n",
       "STREET TYPE                       13541\n",
       "PROPERTY GROUP                        0\n",
       "SSA                             1356267\n",
       "LATITUDE                           1510\n",
       "LONGITUDE                          1510\n",
       "LOCATION                           1510\n",
       "Community Areas                    2279\n",
       "Zip Codes                          1510\n",
       "Boundaries - ZIP Codes             2279\n",
       "Census Tracts                      1545\n",
       "Wards                              2279\n",
       "Historical Wards 2003-2015         2279\n",
       "dtype: int64"
      ]
     },
     "execution_count": 7,
     "metadata": {},
     "output_type": "execute_result"
    }
   ],
   "source": [
    "data.isnull().sum()"
   ]
  },
  {
   "cell_type": "markdown",
   "metadata": {},
   "source": [
    "存在数据缺失的标称属性和数值属性有：INSPECTION STATUS、STREET TYPE、Community Areas、Census Tracts、Wards、Historical Wards 2003-2015，数据缺失的原因可能是由于忘记对其进行填写"
   ]
  },
  {
   "cell_type": "markdown",
   "metadata": {},
   "source": [
    "### INSPECTION STATUS"
   ]
  },
  {
   "cell_type": "markdown",
   "metadata": {},
   "source": [
    "由于INSPECTION STATUS缺失的数据极少，所以采用将缺失部分剔除的方法"
   ]
  },
  {
   "cell_type": "code",
   "execution_count": 44,
   "metadata": {},
   "outputs": [],
   "source": [
    "data_dropna = data.dropna(subset=['INSPECTION STATUS'])"
   ]
  },
  {
   "cell_type": "markdown",
   "metadata": {},
   "source": [
    "对比新旧数据集:"
   ]
  },
  {
   "cell_type": "code",
   "execution_count": 45,
   "metadata": {},
   "outputs": [
    {
     "data": {
      "text/plain": [
       "<matplotlib.axes._subplots.AxesSubplot at 0x7fcebcdc6ca0>"
      ]
     },
     "execution_count": 45,
     "metadata": {},
     "output_type": "execute_result"
    },
    {
     "data": {
      "image/png": "[encoded data removed]",
      "text/plain": [
       "<Figure size 1440x1440 with 2 Axes>"
      ]
     },
     "metadata": {
      "needs_background": "light"
     },
     "output_type": "display_data"
    }
   ],
   "source": [
    "plt.figure(figsize=(20,20))\n",
    "plt.subplot(2,1,1) \n",
    "data['INSPECTION STATUS'].value_counts(dropna = False).plot(kind=\"bar\")\n",
    "plt.subplot(2,1,2)\n",
    "data_dropna['INSPECTION STATUS'].value_counts(dropna = False).plot(kind=\"bar\")"
   ]
  },
  {
   "cell_type": "markdown",
   "metadata": {},
   "source": [
    "### STREET TYPE和Community Areas"
   ]
  },
  {
   "cell_type": "markdown",
   "metadata": {},
   "source": [
    "由于在STREET TYPE、Community Areas中，大量的数据都集中在最高频率值对应的数据，所以采用用最高频率值来填补缺失值的方法"
   ]
  },
  {
   "cell_type": "code",
   "execution_count": 49,
   "metadata": {},
   "outputs": [],
   "source": [
    "street_type_fillna = data_dropna['STREET TYPE'].fillna(data['STREET TYPE'].mode()[0])\n",
    "community_areas_fillna = data_dropna['Community Areas'].fillna(data['Community Areas'].mode()[0])"
   ]
  },
  {
   "cell_type": "markdown",
   "metadata": {},
   "source": [
    "对比新旧数据集:"
   ]
  },
  {
   "cell_type": "code",
   "execution_count": 50,
   "metadata": {},
   "outputs": [
    {
     "data": {
      "text/plain": [
       "<matplotlib.axes._subplots.AxesSubplot at 0x7fcead666eb0>"
      ]
     },
     "execution_count": 50,
     "metadata": {},
     "output_type": "execute_result"
    },
    {
     "data": {
      "image/png": "[encoded data removed]",
      "text/plain": [
       "<Figure size 1440x1440 with 2 Axes>"
      ]
     },
     "metadata": {
      "needs_background": "light"
     },
     "output_type": "display_data"
    }
   ],
   "source": [
    "plt.figure(figsize=(20,20))\n",
    "plt.subplot(2,1,1) \n",
    "data['STREET TYPE'].value_counts(dropna = False).plot(kind=\"bar\")\n",
    "plt.subplot(2,1,2) \n",
    "street_type_fillna.value_counts(dropna = False).plot(kind=\"bar\")"
   ]
  },
  {
   "cell_type": "code",
   "execution_count": 56,
   "metadata": {},
   "outputs": [
    {
     "data": {
      "text/plain": [
       "<matplotlib.axes._subplots.AxesSubplot at 0x7fceab35d220>"
      ]
     },
     "execution_count": 56,
     "metadata": {},
     "output_type": "execute_result"
    },
    {
     "data": {
      "image/png": "[encoded data removed]",
      "text/plain": [
       "<Figure size 1440x1440 with 2 Axes>"
      ]
     },
     "metadata": {
      "needs_background": "light"
     },
     "output_type": "display_data"
    }
   ],
   "source": [
    "plt.figure(figsize=(20,20))\n",
    "plt.subplot(2,1,1) \n",
    "data['Community Areas'].value_counts(dropna = False).plot(kind=\"bar\")\n",
    "plt.subplot(2,1,2) \n",
    "community_areas_fillna.value_counts(dropna = False).plot(kind=\"bar\")"
   ]
  },
  {
   "cell_type": "markdown",
   "metadata": {},
   "source": [
    "### Census Tracts、Wards、Historical Wards 2003-2015"
   ]
  },
  {
   "cell_type": "markdown",
   "metadata": {},
   "source": [
    "对于这三个属性，采用用平均值来填补缺失值的方法"
   ]
  },
  {
   "cell_type": "code",
   "execution_count": 53,
   "metadata": {},
   "outputs": [],
   "source": [
    "census_tracts_fillna = data_dropna['Census Tracts'].fillna(data['Census Tracts'].mean())\n",
    "wards_fillna = data_dropna['Wards'].fillna(data['Wards'].mean())\n",
    "historical_wards_fillna = data_dropna['Historical Wards 2003-2015'].fillna(data['Wards'].mean())                           "
   ]
  },
  {
   "cell_type": "markdown",
   "metadata": {},
   "source": [
    "对比新旧数据集:"
   ]
  },
  {
   "cell_type": "code",
   "execution_count": 60,
   "metadata": {},
   "outputs": [
    {
     "data": {
      "text/plain": [
       "<matplotlib.axes._subplots.AxesSubplot at 0x7fceaae83370>"
      ]
     },
     "execution_count": 60,
     "metadata": {},
     "output_type": "execute_result"
    },
    {
     "data": {
      "image/png": "[encoded data removed]",
      "text/plain": [
       "<Figure size 432x288 with 2 Axes>"
      ]
     },
     "metadata": {
      "needs_background": "light"
     },
     "output_type": "display_data"
    }
   ],
   "source": [
    "plt.figure()\n",
    "plt.subplot(1,2,1) \n",
    "data.boxplot(['Census Tracts'])\n",
    "plt.subplot(1,2,2) \n",
    "pd.DataFrame(census_tracts_fillna).boxplot()"
   ]
  },
  {
   "cell_type": "code",
   "execution_count": 61,
   "metadata": {},
   "outputs": [
    {
     "data": {
      "text/plain": [
       "<matplotlib.axes._subplots.AxesSubplot at 0x7fceaadaeeb0>"
      ]
     },
     "execution_count": 61,
     "metadata": {},
     "output_type": "execute_result"
    },
    {
     "data": {
      "image/png": "[encoded data removed]",
      "text/plain": [
       "<Figure size 432x288 with 2 Axes>"
      ]
     },
     "metadata": {
      "needs_background": "light"
     },
     "output_type": "display_data"
    }
   ],
   "source": [
    "plt.figure()\n",
    "plt.subplot(1,2,1) \n",
    "data.boxplot(['Wards'])\n",
    "plt.subplot(1,2,2) \n",
    "pd.DataFrame(wards_fillna).boxplot()"
   ]
  },
  {
   "cell_type": "code",
   "execution_count": 62,
   "metadata": {},
   "outputs": [
    {
     "data": {
      "text/plain": [
       "<matplotlib.axes._subplots.AxesSubplot at 0x7fceaace30a0>"
      ]
     },
     "execution_count": 62,
     "metadata": {},
     "output_type": "execute_result"
    },
    {
     "data": {
      "image/png": "[encoded data removed]",
      "text/plain": [
       "<Figure size 432x288 with 2 Axes>"
      ]
     },
     "metadata": {
      "needs_background": "light"
     },
     "output_type": "display_data"
    }
   ],
   "source": [
    "plt.figure()\n",
    "plt.subplot(1,2,1) \n",
    "data.boxplot(['Historical Wards 2003-2015'])\n",
    "plt.subplot(1,2,2) \n",
    "pd.DataFrame(historical_wards_fillna).boxplot()"
   ]
  }
 ],
 "metadata": {
  "kernelspec": {
   "display_name": "Python 3",
   "language": "python",
   "name": "python3"
  },
  "language_info": {
   "codemirror_mode": {
    "name": "ipython",
    "version": 3
   },
   "file_extension": ".py",
   "mimetype": "text/x-python",
   "name": "python",
   "nbconvert_exporter": "python",
   "pygments_lexer": "ipython3",
   "version": "3.8.3"
  }
 },
 "nbformat": 4,
 "nbformat_minor": 4
}
